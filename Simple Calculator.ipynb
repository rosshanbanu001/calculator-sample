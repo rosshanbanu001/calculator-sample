{
 "cells": [
  {
   "attachments": {},
   "cell_type": "markdown",
   "metadata": {},
   "source": [
    "Simple Calculator"
   ]
  },
  {
   "cell_type": "code",
   "execution_count": null,
   "metadata": {},
   "outputs": [],
   "source": [
    "print(\"Welcome to Simple Calculator\")\n",
    "name = input(\"Enter your name:\")\n",
    "print(\"Welcome to the Calculator\" ,name)\n",
    "\n",
    "# Def is used to define a function\n",
    "# This function is used to add 2 numbers\n",
    "\n",
    "def add(x, y):\n",
    "    return x + y\n",
    "\n",
    "# This function is used to subtract 2 numbers\n",
    "def subtract(x, y):\n",
    "    return x - y\n",
    "\n",
    "# This function is used to multiply 2 numbers\n",
    "def multiply(x, y):\n",

   "    return x * y\n",
    "\n",
    "# This function is used to divide 2 numbers\n",
    "def divide(x, y):\n",
    "    return x / y\n",
    "\n",
    "# This function is used to power up the number\n",
    "def pow(x, y):\n",
    "    return x ** y\n",
    "\n",
    "# This is to let the user know what options are available\n",
    "print(\"Select an operation to perform:\")\n",
    "print(\"1. Addition\")\n",
    "print(\"2. Subtraction\")\n",
    "print(\"3. Multiplication\")\n",
    "print(\"4. Division\")\n",
    "print(\"5. Power\")\n",
    "print(\"6. Root\")\n",
    "\n",
    "while True:\n",
    "    # taking the input from the user of the choice of operation to perform\n",
    "    choice = input(\"Enter choice(1/2/3/4/5/6): \")\n",
    "\n",
    "    # check if choice is one of the six options\n",
    "    if choice in ('1', '2', '3', '4', '5', '6'):\n",
    "        try:\n",
    "            num1 = float(input(\"Enter first number: \"))\n",
    "            num2 = float(input(\"Enter second number: \"))\n",
    "        except ValueError:\n",
    "            print(\"Invalid input. Please enter a number.\")\n",
    "            continue\n",
    "\n",
    "        if choice == '1':\n",
    "            print(\"You have selected Addition\")\n",
    "            print(\"Your first number is: \",num1)\n",
    "            print(\"Your second number is: \",num2)\n",
    "            print(num1, \"+\", num2, \"=\", add(num1, num2))\n",
    "\n",
    "        elif choice == '2':\n",
    "            print(\"You have selected Subtraction\")\n",
    "            print(\"Your first number is: \",num1)\n",
    "            print(\"Your second number is: \",num2)\n",
    "            print(num1, \"-\", num2, \"=\", subtract(num1, num2))\n",
    "\n",
    "        elif choice == '3':\n",
    "            print(\"You have selected Multiplication\")\n",
    "            print(\"Your first number is: \",num1)\n",
    "            print(\"Your second number is: \",num2)\n",
    "            print(num1, \"*\", num2, \"=\", multiply(num1, num2))\n",
    "\n",
    "        elif choice == '4':\n",
    "            print(\"You have selected Division\")\n",
    "            print(\"Your first number is: \",num1)\n",
    "            print(\"Your second number is: \",num2)\n",
    "            print(num1, \"/\", num2, \"=\", format((divide(num1, num2)), '.2f'))\n",
    "        \n",
    "        elif choice == '5':\n",
    "            print(\"You have selected Power\")\n",
    "            print(\"Your base number is:\",num1)\n",
    "            print(\"Your power number is: \",num2)\n",
    "            print(num1, \"**\", num2, \"=\", pow(num1,num2))\n",
    "\n",
    "        elif choice == '6':\n",
    "            print(\"You have selected Root\")\n",
    "            print(\"Your base number is:\",num1)\n",
    "            print(\"Your root number is: \",num2)\n",
    "            print(num1, \"**\", (1/num2), \"=\", format(pow(num1,(1/num2)), '.2f'))\n",
    "\n",
    "    else:\n",
    "        print(\"Invalid Input\")\n",
    "    break"
   ]
  }
 ],
 "metadata": {
  "kernelspec": {
   "display_name": "Python 3",
   "language": "python",
   "name": "python3"
  },
  "language_info": {
   "codemirror_mode": {
    "name": "ipython",
    "version": 3
   },
   "file_extension": ".py",
   "mimetype": "text/x-python",
   "name": "python",
   "nbconvert_exporter": "python",
   "pygments_lexer": "ipython3",
   "version": "3.11.2"
  },
  "orig_nbformat": 4,
  "vscode": {
   "interpreter": {
    "hash": "584cc8f0d449d89b5866eb870d097caef796fcbdeb82990e5be9128599301d79"
   }
  }
 },
 "nbformat": 4,
 "nbformat_minor": 2
}
#Adding the sum of the calculator

